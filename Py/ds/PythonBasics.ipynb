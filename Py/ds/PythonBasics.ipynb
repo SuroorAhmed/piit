{
 "cells": [
  {
   "cell_type": "markdown",
   "id": "2dd145d3-7a83-4531-a517-d4e4d00cc2dd",
   "metadata": {},
   "source": [
    "# Python Practice "
   ]
  },
  {
   "cell_type": "raw",
   "id": "cc7089dd-7087-4053-b877-d6a4ff030af3",
   "metadata": {},
   "source": [
    "# = Heading 1, Create a project title and you can add project details and topics under different heading and subheadings. Making this a Markdown will help organize projects. You can use Markdown multiple times to create dropdowns within projects. "
   ]
  },
  {
   "cell_type": "raw",
   "id": "740093ad-faeb-4e82-84da-795f0312d6ac",
   "metadata": {},
   "source": [
    "## Creates a subheading, heading 2"
   ]
  },
  {
   "cell_type": "raw",
   "id": "cb190a58-63ae-47cb-8a9d-3ce78380d5d9",
   "metadata": {},
   "source": [
    "### heading 3 and so on beased on number of #"
   ]
  },
  {
   "cell_type": "code",
   "execution_count": null,
   "id": "87df3760-9fff-418f-822b-f4711bc7822b",
   "metadata": {},
   "outputs": [],
   "source": []
  }
 ],
 "metadata": {
  "kernelspec": {
   "display_name": "Python [conda env:base] *",
   "language": "python",
   "name": "conda-base-py"
  },
  "language_info": {
   "codemirror_mode": {
    "name": "ipython",
    "version": 3
   },
   "file_extension": ".py",
   "mimetype": "text/x-python",
   "name": "python",
   "nbconvert_exporter": "python",
   "pygments_lexer": "ipython3",
   "version": "3.13.5"
  }
 },
 "nbformat": 4,
 "nbformat_minor": 5
}
